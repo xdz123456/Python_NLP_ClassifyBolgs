{
  "nbformat": 4,
  "nbformat_minor": 0,
  "metadata": {
    "colab": {
      "name": "TAD_CW",
      "provenance": [],
      "collapsed_sections": []
    },
    "kernelspec": {
      "name": "python3",
      "display_name": "Python 3"
    },
    "language_info": {
      "name": "python"
    }
  },
  "cells": [
    {
      "cell_type": "markdown",
      "source": [
        "## Please complete before submission:\n",
        "\n",
        "**Name:** Dongzhan Xie\n",
        "\n",
        "**Student Number:** 2663048X"
      ],
      "metadata": {
        "id": "SqrpBxlL-VR8"
      }
    },
    {
      "cell_type": "markdown",
      "source": [
        "# TextAs Data Coursework\n",
        "\n",
        "Please fill in this Google Colab by following the prompts from the coursework specification document and inserting your code in each relevant section.\n",
        "\n",
        "- You should submit this notebook together with your report. (Two separate files)\n",
        "- Specifcally you will submit **both a PDF with the report (so we can easily read it) and a .ipynb file containing the source code of your experiments as evidence**. Please do clean up your code where possible before submitting it.\n",
        "- You may add whatever additional code and text blocks as needed (perhaps with [nice formatting](https://colab.research.google.com/notebooks/markdown_guide.ipynb)). Please keep the major headings (for the question numbers) the same."
      ],
      "metadata": {
        "id": "SWZ4t4Ut91ur"
      }
    },
    {
      "cell_type": "markdown",
      "source": [
        "As with labs, please remember to **Save a Copy to Drive** when you start working on this so that it is saved. Completing the labs provides essential knowledge for the successful completion of the coursework. "
      ],
      "metadata": {
        "id": "EstYvRPS_Crg"
      }
    },
    {
      "cell_type": "markdown",
      "source": [
        "## Downloading and loading Data\n",
        "\n",
        "This code loads the prepared split of the Reddit data into training, validation and testing set."
      ],
      "metadata": {
        "id": "DyFYH3v7-ix0"
      }
    },
    {
      "cell_type": "code",
      "execution_count": null,
      "metadata": {
        "colab": {
          "base_uri": "https://localhost:8080/"
        },
        "id": "tG_zJqYH9sTd",
        "outputId": "843af8b6-3cfe-43d9-8b44-d2df6426d33a"
      },
      "outputs": [
        {
          "output_type": "stream",
          "name": "stdout",
          "text": [
            "--2022-03-08 13:20:01--  https://gla-my.sharepoint.com/:u:/g/personal/jake_lever_glasgow_ac_uk/EapVNOIV84tPnQuuFBNgG9UBYIWipQ9JL4QTfSgRtIacBw?download=1\n",
            "Resolving gla-my.sharepoint.com (gla-my.sharepoint.com)... 13.107.136.9, 13.107.138.9\n",
            "Connecting to gla-my.sharepoint.com (gla-my.sharepoint.com)|13.107.136.9|:443... connected.\n",
            "HTTP request sent, awaiting response... 302 Found\n",
            "Location: /personal/jake_lever_glasgow_ac_uk/Documents/Teaching/reddit_data_split.zip [following]\n",
            "--2022-03-08 13:20:02--  https://gla-my.sharepoint.com/personal/jake_lever_glasgow_ac_uk/Documents/Teaching/reddit_data_split.zip\n",
            "Reusing existing connection to gla-my.sharepoint.com:443.\n",
            "HTTP request sent, awaiting response... 200 OK\n",
            "Length: 468327 (457K) [application/x-zip-compressed]\n",
            "Saving to: ‘reddit_data_split.zip’\n",
            "\n",
            "reddit_data_split.z 100%[===================>] 457.35K  1.50MB/s    in 0.3s    \n",
            "\n",
            "2022-03-08 13:20:02 (1.50 MB/s) - ‘reddit_data_split.zip’ saved [468327/468327]\n",
            "\n",
            "Archive:  reddit_data_split.zip\n",
            "  inflating: reddit_test.json        \n",
            "  inflating: reddit_train.json       \n",
            "  inflating: reddit_val.json         \n"
          ]
        }
      ],
      "source": [
        "!wget -O reddit_data_split.zip https://gla-my.sharepoint.com/:u:/g/personal/jake_lever_glasgow_ac_uk/EapVNOIV84tPnQuuFBNgG9UBYIWipQ9JL4QTfSgRtIacBw?download=1\n",
        "!unzip -o reddit_data_split.zip"
      ]
    },
    {
      "cell_type": "code",
      "source": [
        "import json\n",
        "\n",
        "with open('reddit_train.json') as f:\n",
        "    train_data = json.load(f)\n",
        "with open('reddit_val.json') as f:\n",
        "    validation_data = json.load(f)\n",
        "with open('reddit_test.json') as f:\n",
        "    test_data = json.load(f)\n",
        "\n",
        "print(\"Number of posts in training data:\", len(train_data))\n",
        "print(\"Number of posts in validation data:\", len(validation_data))\n",
        "print(\"Number of posts in test data:\", len(test_data))"
      ],
      "metadata": {
        "colab": {
          "base_uri": "https://localhost:8080/"
        },
        "id": "xCezGTgdRYkj",
        "outputId": "23bbef8a-ca43-4115-9af2-bee601fe2a53"
      },
      "execution_count": null,
      "outputs": [
        {
          "output_type": "stream",
          "name": "stdout",
          "text": [
            "Number of posts in training data: 1200\n",
            "Number of posts in validation data: 400\n",
            "Number of posts in test data: 400\n"
          ]
        }
      ]
    },
    {
      "cell_type": "markdown",
      "source": [
        "## Q1:"
      ],
      "metadata": {
        "id": "7txBmrCG_tKr"
      }
    },
    {
      "cell_type": "markdown",
      "source": [
        "### Q1a:"
      ],
      "metadata": {
        "id": "iK9u5izk_wSh"
      }
    },
    {
      "cell_type": "code",
      "source": [
        "import pandas as pd\n",
        "import json\n",
        "import numpy as np\n",
        "import matplotlib.pyplot as plt\n",
        "# Convert the data from json to dataframe\n",
        "train_data_df = pd.json_normalize(train_data)\n",
        "validation_data_df = pd.json_normalize(validation_data)\n",
        "test_data_df = pd.json_normalize(test_data)\n",
        "\n",
        "# Get the Label and their account\n",
        "train_valuecount = train_data_df[\"subreddit\"].value_counts()\n",
        "validation_valuecount = validation_data_df[\"subreddit\"].value_counts()\n",
        "test_valuecount = test_data_df[\"subreddit\"].value_counts()\n",
        "\n",
        "print(\"Train value's value count\")\n",
        "print(train_valuecount)\n",
        "print(\"Validation value's value count\")\n",
        "print(validation_valuecount)\n",
        "print(\"Test value's value count\")\n",
        "print(test_valuecount)\n",
        "\n",
        "train_std = np.std(train_valuecount)\n",
        "validation_std = np.std(validation_valuecount)\n",
        "test_std = np.std(test_valuecount)\n",
        "print(\"Train data's standard deviation\")\n",
        "print(train_std)\n",
        "print(\"Validation data's standard deviation\")\n",
        "print(validation_std)\n",
        "print(\"Test data's standard deviation\")\n",
        "print(test_std)\n",
        "def draw_bar(input, name):\n",
        "  label = list(input.index)\n",
        "  data = np.array(input)\n",
        "  plt.title(\"The distribution of \" + name)\n",
        "  plt.barh(range(len(data)), data, tick_label=label)\n",
        "  plt.show()\n",
        "\n",
        "draw_bar(train_valuecount, \"train\")\n",
        "draw_bar(validation_valuecount, \"validation\")\n",
        "draw_bar(test_valuecount, \"test\")\n",
        "\n"
      ],
      "metadata": {
        "colab": {
          "base_uri": "https://localhost:8080/",
          "height": 1000
        },
        "id": "7rpya75uZ-fM",
        "outputId": "55b06de8-9d02-4523-cac3-b36ae161dc77"
      },
      "execution_count": null,
      "outputs": [
        {
          "output_type": "stream",
          "name": "stdout",
          "text": [
            "Train value's value count\n",
            "tea               146\n",
            "NintendoSwitch    145\n",
            "PS4               142\n",
            "Coffee            136\n",
            "pcgaming          135\n",
            "HydroHomies       134\n",
            "xbox              132\n",
            "antiMLM           128\n",
            "Soda              102\n",
            "Name: subreddit, dtype: int64\n",
            "Validation value's value count\n",
            "antiMLM           54\n",
            "NintendoSwitch    52\n",
            "tea               48\n",
            "Soda              43\n",
            "PS4               43\n",
            "pcgaming          43\n",
            "Coffee            42\n",
            "HydroHomies       38\n",
            "xbox              37\n",
            "Name: subreddit, dtype: int64\n",
            "Test value's value count\n",
            "Coffee            56\n",
            "NintendoSwitch    52\n",
            "PS4               48\n",
            "pcgaming          47\n",
            "xbox              44\n",
            "antiMLM           44\n",
            "tea               42\n",
            "HydroHomies       38\n",
            "Soda              29\n",
            "Name: subreddit, dtype: int64\n",
            "Train data's standard deviation\n",
            "12.445436468396315\n",
            "Validation data's standard deviation\n",
            "5.479479113750201\n",
            "Test data's standard deviation\n",
            "7.425348642934943\n"
          ]
        },
        {
          "output_type": "display_data",
          "data": {
            "image/png": "[encoded data removed]",
            "text/plain": [
              "<Figure size 432x288 with 1 Axes>"
            ]
          },
          "metadata": {
            "needs_background": "light"
          }
        },
        {
          "output_type": "display_data",
          "data": {
            "image/png": "[encoded data removed]",
            "text/plain": [
              "<Figure size 432x288 with 1 Axes>"
            ]
          },
          "metadata": {
            "needs_background": "light"
          }
        },
        {
          "output_type": "display_data",
          "data": {
            "image/png": "[encoded data removed]",
            "text/plain": [
              "<Figure size 432x288 with 1 Axes>"
            ]
          },
          "metadata": {
            "needs_background": "light"
          }
        }
      ]
    },
    {
      "cell_type": "markdown",
      "source": [
        "### Q1b:"
      ],
      "metadata": {
        "id": "TQaSIxai_8dQ"
      }
    },
    {
      "cell_type": "code",
      "source": [
        "from sklearn.feature_extraction.text import CountVectorizer\n",
        "# Set the One Hot vectorizer\n",
        "one_hot_vectorizer = CountVectorizer(binary=True)\n",
        "\n",
        "\n",
        "validation_body_features = validation_data_df['body']\n",
        "test_body_features = test_data_df['body']\n",
        "train_body_features = train_data_df['body']\n",
        "\n",
        "# Get the one hot feature\n",
        "validation_features_OneHot = one_hot_vectorizer.fit_transform(validation_data_df['body'].tolist())\n",
        "test_features_OneHot = one_hot_vectorizer.transform(test_data_df['body'].tolist())\n",
        "train_features_OneHot = one_hot_vectorizer.transform(train_data_df['body'].tolist())\n"
      ],
      "metadata": {
        "id": "uGggiQrcFGiO"
      },
      "execution_count": null,
      "outputs": []
    },
    {
      "cell_type": "code",
      "source": [
        "# Set TFIDF vectorizer\n",
        "from sklearn.feature_extraction.text import TfidfVectorizer\n",
        "TF_IDF_transformer = TfidfVectorizer()\n",
        "\n",
        "validation_tfidf= TF_IDF_transformer.fit_transform(validation_data_df['body'].tolist())\n",
        "train_tfidf = TF_IDF_transformer.transform(train_data_df['body'].tolist())\n",
        "test_tfidf = TF_IDF_transformer.transform(test_data_df['body'].tolist())"
      ],
      "metadata": {
        "id": "VKxXLLkNTfnv"
      },
      "execution_count": null,
      "outputs": []
    },
    {
      "cell_type": "code",
      "source": [
        "# Set Labels\n",
        "\n",
        "train_labels = train_data_df['subreddit']\n",
        "validation_labels = validation_data_df['subreddit']\n",
        "test_labels = test_data_df['subreddit']"
      ],
      "metadata": {
        "id": "uTugTYBbo-fm"
      },
      "execution_count": null,
      "outputs": []
    },
    {
      "cell_type": "code",
      "source": [
        "# Set the evalution Function\n",
        "from sklearn.metrics import classification_report\n",
        "from sklearn.metrics import confusion_matrix\n",
        "from sklearn.metrics import precision_score\n",
        "from sklearn.metrics import recall_score\n",
        "from sklearn.metrics import accuracy_score\n",
        "from sklearn.metrics import fbeta_score\n",
        "\n",
        "def evaluation_summary(description, true_labels, predictions):\n",
        "  print(\"Evaluation for: \" + description)\n",
        "  print(classification_report(true_labels, predictions,  digits=3, zero_division=0))\n",
        "  print('\\nConfusion matrix:\\n',confusion_matrix(true_labels, predictions)) # Note the order here is true, predicted"
      ],
      "metadata": {
        "id": "RdFs1cEeLKyt"
      },
      "execution_count": null,
      "outputs": []
    },
    {
      "cell_type": "code",
      "source": [
        "# Dummy_Onehot with most frequent\n",
        "\n",
        "from sklearn.dummy import DummyClassifier\n",
        "\n",
        "dummy_mf = DummyClassifier(strategy='most_frequent')\n",
        "dummy_mf.fit(train_body_features, train_labels)\n",
        "print(dummy_mf.score(test_body_features, test_labels))\n",
        "\n",
        "dummy_mf_predicted_labels = dummy_mf.predict(test_body_features)\n",
        "evaluation_summary(\"Dummy Majority\", test_labels, dummy_mf_predicted_labels)"
      ],
      "metadata": {
        "colab": {
          "base_uri": "https://localhost:8080/"
        },
        "id": "mOj1bJc5qAU-",
        "outputId": "a0696164-6328-4087-b828-9b26d45d3072"
      },
      "execution_count": null,
      "outputs": [
        {
          "output_type": "stream",
          "name": "stdout",
          "text": [
            "0.105\n",
            "Evaluation for: Dummy Majority\n",
            "                precision    recall  f1-score   support\n",
            "\n",
            "        Coffee      0.000     0.000     0.000        56\n",
            "   HydroHomies      0.000     0.000     0.000        38\n",
            "NintendoSwitch      0.000     0.000     0.000        52\n",
            "           PS4      0.000     0.000     0.000        48\n",
            "          Soda      0.000     0.000     0.000        29\n",
            "       antiMLM      0.000     0.000     0.000        44\n",
            "      pcgaming      0.000     0.000     0.000        47\n",
            "           tea      0.105     1.000     0.190        42\n",
            "          xbox      0.000     0.000     0.000        44\n",
            "\n",
            "      accuracy                          0.105       400\n",
            "     macro avg      0.012     0.111     0.021       400\n",
            "  weighted avg      0.011     0.105     0.020       400\n",
            "\n",
            "\n",
            "Confusion matrix:\n",
            " [[ 0  0  0  0  0  0  0 56  0]\n",
            " [ 0  0  0  0  0  0  0 38  0]\n",
            " [ 0  0  0  0  0  0  0 52  0]\n",
            " [ 0  0  0  0  0  0  0 48  0]\n",
            " [ 0  0  0  0  0  0  0 29  0]\n",
            " [ 0  0  0  0  0  0  0 44  0]\n",
            " [ 0  0  0  0  0  0  0 47  0]\n",
            " [ 0  0  0  0  0  0  0 42  0]\n",
            " [ 0  0  0  0  0  0  0 44  0]]\n"
          ]
        }
      ]
    },
    {
      "cell_type": "code",
      "source": [
        "dummy_prior = DummyClassifier(strategy='stratified')\n",
        "dummy_prior.fit(train_body_features, train_labels)\n",
        "print(dummy_prior.score(test_body_features, test_labels))\n",
        "\n",
        "dummy_prior_predicted_labels = dummy_prior.predict(test_body_features)\n",
        "evaluation_summary(\"Dummy Prior\", test_labels, dummy_prior_predicted_labels)"
      ],
      "metadata": {
        "colab": {
          "base_uri": "https://localhost:8080/"
        },
        "id": "oEMTcUvKqAE2",
        "outputId": "f87a7811-b6a4-4f9b-9a37-69f9c5cb2d1d"
      },
      "execution_count": null,
      "outputs": [
        {
          "output_type": "stream",
          "name": "stdout",
          "text": [
            "0.1\n",
            "Evaluation for: Dummy Prior\n",
            "                precision    recall  f1-score   support\n",
            "\n",
            "        Coffee      0.081     0.054     0.065        56\n",
            "   HydroHomies      0.071     0.079     0.075        38\n",
            "NintendoSwitch      0.172     0.192     0.182        52\n",
            "           PS4      0.191     0.188     0.189        48\n",
            "          Soda      0.000     0.000     0.000        29\n",
            "       antiMLM      0.086     0.068     0.076        44\n",
            "      pcgaming      0.122     0.128     0.125        47\n",
            "           tea      0.070     0.071     0.071        42\n",
            "          xbox      0.132     0.159     0.144        44\n",
            "\n",
            "      accuracy                          0.110       400\n",
            "     macro avg      0.103     0.104     0.103       400\n",
            "  weighted avg      0.109     0.110     0.109       400\n",
            "\n",
            "\n",
            "Confusion matrix:\n",
            " [[ 3  9  5  5  8  4  8  9  5]\n",
            " [ 3  3  7  5  4  3  4  3  6]\n",
            " [ 3  6 10  5  3  5  6  8  6]\n",
            " [ 5  3  7  9  4  5  8  1  6]\n",
            " [ 5  4  2  4  0  4  2  5  3]\n",
            " [ 5  3  7  7  5  3  4  6  4]\n",
            " [ 4  4  6  4  4  6  6  5  8]\n",
            " [ 5  2  5  2  6  4  7  3  8]\n",
            " [ 4  8  9  6  2  1  4  3  7]]\n"
          ]
        }
      ]
    },
    {
      "cell_type": "code",
      "source": [
        "# LR for OneHot\n",
        "from sklearn.linear_model import LogisticRegression\n",
        "\n",
        "lr_oneHot = LogisticRegression()\n",
        "\n",
        "lr_oneHot_model = lr_oneHot.fit(train_features_OneHot, train_labels)\n",
        "\n",
        "lr_oneHot_predicted_labels = lr_oneHot_model.predict(test_features_OneHot)\n",
        "\n",
        "evaluation_summary(\"LR onehot\", test_labels, lr_oneHot_predicted_labels)\n",
        "# print(lr_oneHot_predicted_labels)\n"
      ],
      "metadata": {
        "colab": {
          "base_uri": "https://localhost:8080/"
        },
        "id": "9FVlKr45JIwp",
        "outputId": "e3bd4f27-3902-4bce-cea3-4f8577140028"
      },
      "execution_count": null,
      "outputs": [
        {
          "output_type": "stream",
          "name": "stdout",
          "text": [
            "Evaluation for: LR onehot\n",
            "                precision    recall  f1-score   support\n",
            "\n",
            "        Coffee      0.789     0.804     0.796        56\n",
            "   HydroHomies      0.833     0.921     0.875        38\n",
            "NintendoSwitch      0.608     0.596     0.602        52\n",
            "           PS4      0.483     0.604     0.537        48\n",
            "          Soda      0.636     0.724     0.677        29\n",
            "       antiMLM      0.829     0.659     0.734        44\n",
            "      pcgaming      0.514     0.404     0.452        47\n",
            "           tea      0.778     0.833     0.805        42\n",
            "          xbox      0.575     0.523     0.548        44\n",
            "\n",
            "      accuracy                          0.667       400\n",
            "     macro avg      0.672     0.674     0.670       400\n",
            "  weighted avg      0.669     0.667     0.665       400\n",
            "\n",
            "\n",
            "Confusion matrix:\n",
            " [[45  0  3  1  2  0  1  4  0]\n",
            " [ 1 35  1  1  0  0  0  0  0]\n",
            " [ 1  1 31  4  1  1  6  1  6]\n",
            " [ 1  1  5 29  2  0  4  0  6]\n",
            " [ 1  1  0  2 21  1  1  2  0]\n",
            " [ 2  2  1  4  0 29  2  1  3]\n",
            " [ 1  1  8 10  3  2 19  1  2]\n",
            " [ 4  0  0  0  3  0  0 35  0]\n",
            " [ 1  1  2  9  1  2  4  1 23]]\n"
          ]
        }
      ]
    },
    {
      "cell_type": "code",
      "source": [
        "# LR for TF_IDF\n",
        "from sklearn.linear_model import LogisticRegression\n",
        "\n",
        "\n",
        "lr_TF_IDF = LogisticRegression()\n",
        "\n",
        "lr_TF_IDF_model = lr_TF_IDF.fit(train_tfidf, train_labels)\n",
        "\n",
        "lr_TF_IDF_predicted_labels = lr_TF_IDF_model.predict(test_tfidf)\n",
        "\n",
        "evaluation_summary(\"LR TDIDF\", test_labels, lr_TF_IDF_predicted_labels)"
      ],
      "metadata": {
        "colab": {
          "base_uri": "https://localhost:8080/"
        },
        "id": "SZPXtELKkpT8",
        "outputId": "05420e74-8602-4cd9-9f3b-79d5ecb4b58e"
      },
      "execution_count": null,
      "outputs": [
        {
          "output_type": "stream",
          "name": "stdout",
          "text": [
            "Evaluation for: LR TDIDF\n",
            "                precision    recall  f1-score   support\n",
            "\n",
            "        Coffee      0.925     0.875     0.899        56\n",
            "   HydroHomies      0.879     0.763     0.817        38\n",
            "NintendoSwitch      0.690     0.769     0.727        52\n",
            "           PS4      0.542     0.667     0.598        48\n",
            "          Soda      0.788     0.897     0.839        29\n",
            "       antiMLM      0.822     0.841     0.831        44\n",
            "      pcgaming      0.585     0.511     0.545        47\n",
            "           tea      0.881     0.881     0.881        42\n",
            "          xbox      0.778     0.636     0.700        44\n",
            "\n",
            "      accuracy                          0.755       400\n",
            "     macro avg      0.766     0.760     0.760       400\n",
            "  weighted avg      0.762     0.755     0.756       400\n",
            "\n",
            "\n",
            "Confusion matrix:\n",
            " [[49  1  0  0  2  0  1  3  0]\n",
            " [ 0 29  2  2  1  3  1  0  0]\n",
            " [ 0  1 40  4  1  1  2  0  3]\n",
            " [ 0  0  6 32  1  0  6  0  3]\n",
            " [ 0  0  0  2 26  0  0  1  0]\n",
            " [ 1  1  0  2  0 37  2  0  1]\n",
            " [ 0  1  7 11  0  2 24  1  1]\n",
            " [ 2  0  0  0  2  0  1 37  0]\n",
            " [ 1  0  3  6  0  2  4  0 28]]\n"
          ]
        }
      ]
    },
    {
      "cell_type": "code",
      "source": [
        "# SVC Model\n",
        "from sklearn.svm import SVC\n",
        "\n",
        "svc=SVC(kernel='rbf')\n",
        "\n",
        "svc_model = svc.fit(train_features_OneHot,train_labels)\n",
        "\n",
        "svc_predicted_labels = svc_model.predict(test_features_OneHot)\n",
        "\n",
        "evaluation_summary(\"SVC with One Hot\", test_labels, svc_predicted_labels)\n",
        "# print(lr_oneHot_predicted_labels)\n"
      ],
      "metadata": {
        "colab": {
          "base_uri": "https://localhost:8080/"
        },
        "id": "YwAmLDdOscRi",
        "outputId": "88acf8c6-4436-4e43-f4d0-889d65562e08"
      },
      "execution_count": null,
      "outputs": [
        {
          "output_type": "stream",
          "name": "stdout",
          "text": [
            "Evaluation for: SVC with One Hot\n",
            "                precision    recall  f1-score   support\n",
            "\n",
            "        Coffee      0.885     0.821     0.852        56\n",
            "   HydroHomies      0.769     0.789     0.779        38\n",
            "NintendoSwitch      0.630     0.654     0.642        52\n",
            "           PS4      0.354     0.583     0.441        48\n",
            "          Soda      0.656     0.724     0.689        29\n",
            "       antiMLM      0.604     0.659     0.630        44\n",
            "      pcgaming      0.481     0.277     0.351        47\n",
            "           tea      0.919     0.810     0.861        42\n",
            "          xbox      0.688     0.500     0.579        44\n",
            "\n",
            "      accuracy                          0.642       400\n",
            "     macro avg      0.665     0.646     0.647       400\n",
            "  weighted avg      0.664     0.642     0.644       400\n",
            "\n",
            "\n",
            "Confusion matrix:\n",
            " [[46  0  1  1  2  3  1  2  0]\n",
            " [ 2 30  2  1  1  2  0  0  0]\n",
            " [ 0  1 34  6  1  2  5  0  3]\n",
            " [ 0  1  5 28  3  2  5  0  4]\n",
            " [ 2  1  0  5 21  0  0  0  0]\n",
            " [ 0  3  0  9  0 29  1  0  2]\n",
            " [ 0  3  9 16  1  3 13  1  1]\n",
            " [ 2  0  0  1  2  3  0 34  0]\n",
            " [ 0  0  3 12  1  4  2  0 22]]\n"
          ]
        }
      ]
    },
    {
      "cell_type": "code",
      "source": [
        "# Draw best model's \n",
        "best_F1 = [0.899, 0.817, 0.727, 0.598, 0.839, 0.831, 0.545, 0.881, 0.700]\n",
        "best_Label = list(test_valuecount.index)\n",
        "plt.figure(figsize=(20, 8))\n",
        "plt.title(\"The F1 score of best model (LogisticRegression with TF-IDF vectorization)\")\n",
        "plt.bar(range(len(best_F1)), best_F1, tick_label=best_Label)\n",
        "plt.tight_layout()\n",
        "plt.show()\n",
        "\n"
      ],
      "metadata": {
        "colab": {
          "base_uri": "https://localhost:8080/",
          "height": 397
        },
        "id": "1jl4bixrJ_nc",
        "outputId": "4fedb102-aa27-4b4c-d7c1-60133d38e4b2"
      },
      "execution_count": null,
      "outputs": [
        {
          "output_type": "display_data",
          "data": {
            "image/png": "[encoded data removed]",
            "text/plain": [
              "<Figure size 1440x576 with 1 Axes>"
            ]
          },
          "metadata": {
            "needs_background": "light"
          }
        }
      ]
    },
    {
      "cell_type": "markdown",
      "source": [
        "### Q1c:"
      ],
      "metadata": {
        "id": "YBMJdw_j_8fx"
      }
    },
    {
      "cell_type": "code",
      "source": [
        "# K-Nearest Neighbor\n",
        "from sklearn.neighbors import KNeighborsClassifier\n",
        "\n",
        "knn = KNeighborsClassifier(n_neighbors=15)\n",
        "knn_model = knn.fit(train_tfidf,train_labels)\n",
        "knn_predicted_labels = knn_model.predict(test_tfidf)\n",
        "evaluation_summary(\"K-Nearest Neighbor\", test_labels, knn_predicted_labels)"
      ],
      "metadata": {
        "colab": {
          "base_uri": "https://localhost:8080/"
        },
        "id": "7ZaYpvwAwOYh",
        "outputId": "fe0c7597-0cff-4361-bba3-d203b3be621e"
      },
      "execution_count": null,
      "outputs": [
        {
          "output_type": "stream",
          "name": "stdout",
          "text": [
            "Evaluation for: K-Nearest Neighbor\n",
            "                precision    recall  f1-score   support\n",
            "\n",
            "        Coffee      0.902     0.821     0.860        56\n",
            "   HydroHomies      0.853     0.763     0.806        38\n",
            "NintendoSwitch      0.455     0.865     0.596        52\n",
            "           PS4      0.568     0.438     0.494        48\n",
            "          Soda      0.864     0.655     0.745        29\n",
            "       antiMLM      0.603     0.864     0.710        44\n",
            "      pcgaming      0.421     0.170     0.242        47\n",
            "           tea      0.810     0.810     0.810        42\n",
            "          xbox      0.667     0.500     0.571        44\n",
            "\n",
            "      accuracy                          0.655       400\n",
            "     macro avg      0.682     0.654     0.648       400\n",
            "  weighted avg      0.671     0.655     0.642       400\n",
            "\n",
            "\n",
            "Confusion matrix:\n",
            " [[46  2  0  1  1  3  0  3  0]\n",
            " [ 0 29  1  0  0  7  0  1  0]\n",
            " [ 0  0 45  1  1  1  3  0  1]\n",
            " [ 1  1 18 21  0  2  2  0  3]\n",
            " [ 2  1  2  0 19  0  1  1  3]\n",
            " [ 0  0  1  1  0 38  3  0  1]\n",
            " [ 0  0 25  6  0  3  8  2  3]\n",
            " [ 0  1  1  0  1  5  0 34  0]\n",
            " [ 2  0  6  7  0  4  2  1 22]]\n"
          ]
        }
      ]
    },
    {
      "cell_type": "markdown",
      "source": [
        "## Q2:"
      ],
      "metadata": {
        "id": "zZcRes8WAOo6"
      }
    },
    {
      "cell_type": "markdown",
      "source": [
        "### Q2a:"
      ],
      "metadata": {
        "id": "ZuAxwU0IABir"
      }
    },
    {
      "cell_type": "code",
      "source": [
        "# Tuning with the max feature\n",
        "best_feature = 0\n",
        "best_score = 0\n",
        "score = np.array([])\n",
        "\n",
        "for i in range(10, 250):\n",
        "\n",
        "  TF_IDF_transformer_new = TfidfVectorizer(binary=True, sublinear_tf=True, max_features=i*10)\n",
        "  validation_tfidf_new= TF_IDF_transformer_new.fit_transform(validation_data_df['body'].tolist())\n",
        "  train_tfidf_new = TF_IDF_transformer_new.transform(train_data_df['body'].tolist())\n",
        "  test_tfidf_new = TF_IDF_transformer_new.transform(test_data_df['body'].tolist())\n",
        "\n",
        "  lr_TF_IDF_new = LogisticRegression()\n",
        "\n",
        "  lr_TF_IDF_model_new = lr_TF_IDF_new.fit(train_tfidf_new, train_labels)\n",
        "\n",
        "  lr_TF_IDF_predicted_labels_new = lr_TF_IDF_model_new.predict(validation_tfidf_new)\n",
        "\n",
        "  current_score =  fbeta_score(validation_labels,lr_TF_IDF_predicted_labels_new, average='weighted', beta=0.5)\n",
        "  score = np.append(score, current_score)\n",
        "  if current_score > best_score:\n",
        "    best_score = current_score\n",
        "    best_feature = i * 10\n",
        "\n",
        "print(\"best feature \" + str(best_feature))\n",
        "print(\"F1 \" + str(best_score))\n",
        "\n",
        "plt.plot(np.arange(100, 2500, 10), score)\n",
        "plt.show()\n",
        "\n",
        "# evaluation_summary(\"LR TDIDF new\", validation_labels, lr_TF_IDF_predicted_labels_new, list(train_valuecount.index))\n",
        "# print(lr_TF_IDF_predicted_labels)"
      ],
      "metadata": {
        "colab": {
          "base_uri": "https://localhost:8080/",
          "height": 299
        },
        "id": "PAie5kIt1x8p",
        "outputId": "7e858550-1df8-4e65-9396-41e965e07bb6"
      },
      "execution_count": null,
      "outputs": [
        {
          "output_type": "stream",
          "name": "stdout",
          "text": [
            "best feature 2140\n",
            "F1 0.7810964484391508\n"
          ]
        },
        {
          "output_type": "display_data",
          "data": {
            "image/png": "[encoded data removed]",
            "text/plain": [
              "<Figure size 432x288 with 1 Axes>"
            ]
          },
          "metadata": {
            "needs_background": "light"
          }
        }
      ]
    },
    {
      "cell_type": "code",
      "source": [
        "best_feature = 0\n",
        "best_score = 0\n",
        "score = np.array([])\n",
        "TF_IDF_transformer_new = TfidfVectorizer(binary=True, sublinear_tf=True, max_features = 2790)\n",
        "validation_tfidf_new= TF_IDF_transformer_new.fit_transform(validation_data_df['body'].tolist())\n",
        "train_tfidf_new = TF_IDF_transformer_new.transform(train_data_df['body'].tolist())\n",
        "test_tfidf_new = TF_IDF_transformer_new.transform(test_data_df['body'].tolist())\n",
        "\n",
        "for i in range(1, 50):\n",
        "\n",
        "  lr_TF_IDF_new = LogisticRegression(C = 10**-1 * i)\n",
        "\n",
        "  lr_TF_IDF_model_new = lr_TF_IDF_new.fit(train_tfidf_new, train_labels)\n",
        "\n",
        "  lr_TF_IDF_predicted_labels_new = lr_TF_IDF_model_new.predict(validation_tfidf_new)\n",
        "\n",
        "  current_score =  fbeta_score(validation_labels,lr_TF_IDF_predicted_labels_new, average='weighted', beta=0.5)\n",
        "  score = np.append(score, current_score)\n",
        "  if current_score > best_score:\n",
        "    best_score = current_score\n",
        "    best_feature = i * 0.1\n",
        "\n",
        "print(\"best feature \" + str(best_feature))\n",
        "print(\"F1 \" + str(best_score))\n",
        "# 7.4 Increase the number of iterations (max_iter) or scale the data as shown in:\n",
        "plt.plot(np.arange(10**-1, 5, 10**-1), score)\n",
        "plt.show()\n"
      ],
      "metadata": {
        "colab": {
          "base_uri": "https://localhost:8080/",
          "height": 299
        },
        "id": "8mxqvVfXCxM1",
        "outputId": "9619b150-b572-4c89-f652-95ad43607ccf"
      },
      "execution_count": null,
      "outputs": [
        {
          "output_type": "stream",
          "name": "stdout",
          "text": [
            "best feature 0.6000000000000001\n",
            "F1 0.7891959058456567\n"
          ]
        },
        {
          "output_type": "display_data",
          "data": {
            "image/png": "[encoded data removed]",
            "text/plain": [
              "<Figure size 432x288 with 1 Axes>"
            ]
          },
          "metadata": {
            "needs_background": "light"
          }
        }
      ]
    },
    {
      "cell_type": "code",
      "source": [
        "from sklearn.pipeline import Pipeline\n",
        "\n",
        "prediction_pipeline = Pipeline([\n",
        "              ('tfidf', TfidfVectorizer()),\n",
        "              ('logreg', LogisticRegression())\n",
        "              ])\n",
        "prediction_pipeline.fit(train_data_df['body'].tolist(), train_labels)"
      ],
      "metadata": {
        "colab": {
          "base_uri": "https://localhost:8080/"
        },
        "id": "3t4ppkcf8VDZ",
        "outputId": "5e7ba512-6282-4931-a25c-0fafc74b264a"
      },
      "execution_count": null,
      "outputs": [
        {
          "output_type": "execute_result",
          "data": {
            "text/plain": [
              "Pipeline(steps=[('tfidf', TfidfVectorizer()), ('logreg', LogisticRegression())])"
            ]
          },
          "metadata": {},
          "execution_count": 17
        }
      ]
    },
    {
      "cell_type": "code",
      "source": [
        "from sklearn.model_selection import GridSearchCV\n",
        "params = {\n",
        "   'tfidf__sublinear_tf' : (True, False),\n",
        "   'tfidf__max_features' : np.append(np.arange(1900, 2200, 100), None),\n",
        "   'logreg__C' : [0.4, 0.5, 0.6],\n",
        "   'logreg__solver' : ['lbfgs', 'liblinear', 'sag', 'saga']\n",
        "\n",
        "}\n",
        "grid_search = GridSearchCV(prediction_pipeline, param_grid=params, n_jobs=1, verbose=1, scoring='f1_weighted', cv = 5)\n",
        "print(\"Performing grid search...\")\n",
        "print(\"pipeline:\", [name for name, _ in prediction_pipeline.steps])\n",
        "print(\"parameters:\")\n",
        "print(params)\n",
        "grid_search.fit(train_data_df['body'].tolist(), train_labels)\n",
        "\n",
        "print(\"Best score: %0.3f\" % grid_search.best_score_)\n",
        "print(\"Best parameters set:\")\n",
        "best_parameters = grid_search.best_estimator_.get_params()\n",
        "for param_name in sorted(params.keys()):\n",
        "  print(\"\\t%s: %r\" % (param_name, best_parameters[param_name]))\n"
      ],
      "metadata": {
        "colab": {
          "base_uri": "https://localhost:8080/"
        },
        "id": "AncmQBe_9WYC",
        "outputId": "a0199de4-3d71-4b71-cb15-e0e49bcf1a57"
      },
      "execution_count": null,
      "outputs": [
        {
          "output_type": "stream",
          "name": "stdout",
          "text": [
            "Performing grid search...\n",
            "pipeline: ['tfidf', 'logreg']\n",
            "parameters:\n",
            "{'tfidf__sublinear_tf': (True, False), 'tfidf__max_features': array([1900, 2000, 2100, None], dtype=object), 'logreg__C': [0.4, 0.5, 0.6], 'logreg__solver': ['lbfgs', 'liblinear', 'sag', 'saga']}\n",
            "Fitting 5 folds for each of 96 candidates, totalling 480 fits\n",
            "Best score: 0.751\n",
            "Best parameters set:\n",
            "\tlogreg__C: 0.6\n",
            "\tlogreg__solver: 'saga'\n",
            "\ttfidf__max_features: 2100\n",
            "\ttfidf__sublinear_tf: True\n"
          ]
        }
      ]
    },
    {
      "cell_type": "code",
      "source": [
        "# Tuning\n",
        "# Set TFIDF vectorizer\n",
        "\n",
        "TF_IDF_transformer_new = TfidfVectorizer(sublinear_tf=True, max_features = 2100)\n",
        "validation_tfidf_new = TF_IDF_transformer_new.fit_transform(validation_data_df['body'].tolist())\n",
        "train_tfidf_new = TF_IDF_transformer_new.transform(train_data_df['body'].tolist())\n",
        "test_tfidf_new = TF_IDF_transformer_new.transform(test_data_df['body'].tolist())\n",
        "\n",
        "lr_TF_IDF = LogisticRegression(solver ='saga', C = 0.6)\n",
        "\n",
        "lr_TF_IDF_model = lr_TF_IDF.fit(train_tfidf_new, train_labels)\n",
        "\n",
        "lr_TF_IDF_predicted_labels = lr_TF_IDF_model.predict(test_tfidf_new)\n",
        "\n",
        "evaluation_summary(\"LR TDIDF with tuning\", test_labels, lr_TF_IDF_predicted_labels)"
      ],
      "metadata": {
        "id": "Sy27n2RoyzUv",
        "colab": {
          "base_uri": "https://localhost:8080/"
        },
        "outputId": "6d909352-c86d-4741-c630-cfc413f72620"
      },
      "execution_count": null,
      "outputs": [
        {
          "output_type": "stream",
          "name": "stdout",
          "text": [
            "Evaluation for: LR TDIDF with tuning\n",
            "                precision    recall  f1-score   support\n",
            "\n",
            "        Coffee      0.943     0.893     0.917        56\n",
            "   HydroHomies      0.938     0.789     0.857        38\n",
            "NintendoSwitch      0.639     0.750     0.690        52\n",
            "           PS4      0.525     0.646     0.579        48\n",
            "          Soda      0.800     0.828     0.814        29\n",
            "       antiMLM      0.783     0.818     0.800        44\n",
            "      pcgaming      0.730     0.574     0.643        47\n",
            "           tea      0.881     0.881     0.881        42\n",
            "          xbox      0.750     0.682     0.714        44\n",
            "\n",
            "      accuracy                          0.760       400\n",
            "     macro avg      0.777     0.762     0.766       400\n",
            "  weighted avg      0.772     0.760     0.763       400\n",
            "\n",
            "\n",
            "Confusion matrix:\n",
            " [[50  0  1  0  2  0  0  3  0]\n",
            " [ 0 30  2  2  1  3  0  0  0]\n",
            " [ 0  1 39  5  1  1  1  0  4]\n",
            " [ 0  0  7 31  1  1  5  0  3]\n",
            " [ 0  0  0  4 24  0  0  1  0]\n",
            " [ 0  1  0  3  0 36  2  0  2]\n",
            " [ 0  0  8  7  0  3 27  1  1]\n",
            " [ 2  0  0  1  1  0  1 37  0]\n",
            " [ 1  0  4  6  0  2  1  0 30]]\n"
          ]
        }
      ]
    },
    {
      "cell_type": "markdown",
      "source": [
        "### Q2b:"
      ],
      "metadata": {
        "id": "pIsRTiW-ABs8"
      }
    },
    {
      "cell_type": "markdown",
      "source": [
        "## Q3:"
      ],
      "metadata": {
        "id": "BWs7YqOOAbLp"
      }
    },
    {
      "cell_type": "markdown",
      "source": [
        "### Q3a:"
      ],
      "metadata": {
        "id": "lOpWB9pMAcri"
      }
    },
    {
      "cell_type": "code",
      "source": [
        "TF_IDF_transformer_new = TfidfVectorizer(sublinear_tf=True, max_features = 2100)\n",
        "validation_tfidf_new = TF_IDF_transformer_new.fit_transform((validation_data_df['body'] + validation_data_df['author'] + validation_data_df['title']).tolist())\n",
        "train_tfidf_new = TF_IDF_transformer_new.transform((train_data_df['body'] + train_data_df['author'] + train_data_df['title']).tolist())\n",
        "test_tfidf_new = TF_IDF_transformer_new.transform((test_data_df['body'] + test_data_df['author'] + test_data_df['title']).tolist())\n",
        "\n",
        "lr_TF_IDF = LogisticRegression(solver ='saga', C = 0.6)\n",
        "\n",
        "lr_TF_IDF_model = lr_TF_IDF.fit(train_tfidf_new, train_labels)\n",
        "\n",
        "lr_TF_IDF_predicted_labels_f1 = lr_TF_IDF_model.predict(test_tfidf_new)\n",
        "\n",
        "evaluation_summary(\"LR TDIDF with tuning\", test_labels, lr_TF_IDF_predicted_labels_f1)"
      ],
      "metadata": {
        "colab": {
          "base_uri": "https://localhost:8080/"
        },
        "id": "CDYCb16NMv8j",
        "outputId": "1e4f5d0f-d840-4c4e-92d9-be90815badb0"
      },
      "execution_count": null,
      "outputs": [
        {
          "output_type": "stream",
          "name": "stdout",
          "text": [
            "Evaluation for: LR TDIDF with tuning\n",
            "                precision    recall  f1-score   support\n",
            "\n",
            "        Coffee      0.963     0.929     0.945        56\n",
            "   HydroHomies      0.941     0.842     0.889        38\n",
            "NintendoSwitch      0.786     0.846     0.815        52\n",
            "           PS4      0.614     0.729     0.667        48\n",
            "          Soda      0.867     0.897     0.881        29\n",
            "       antiMLM      0.812     0.886     0.848        44\n",
            "      pcgaming      0.705     0.660     0.681        47\n",
            "           tea      0.950     0.905     0.927        42\n",
            "          xbox      0.892     0.750     0.815        44\n",
            "\n",
            "      accuracy                          0.825       400\n",
            "     macro avg      0.837     0.827     0.830       400\n",
            "  weighted avg      0.833     0.825     0.827       400\n",
            "\n",
            "\n",
            "Confusion matrix:\n",
            " [[52  1  0  0  1  0  1  1  0]\n",
            " [ 0 32  0  2  0  4  0  0  0]\n",
            " [ 0  0 44  4  0  1  2  0  1]\n",
            " [ 0  0  4 35  2  0  6  0  1]\n",
            " [ 0  0  1  2 26  0  0  0  0]\n",
            " [ 0  1  0  1  0 39  1  1  1]\n",
            " [ 0  0  6  7  0  2 31  0  1]\n",
            " [ 2  0  0  1  1  0  0 38  0]\n",
            " [ 0  0  1  5  0  2  3  0 33]]\n"
          ]
        }
      ]
    },
    {
      "cell_type": "code",
      "source": [
        "import spacy\n",
        "import nltk\n",
        "\n",
        "nlp = spacy.load('en_core_web_sm', disable=['ner'])\n",
        "nlp.remove_pipe('tagger')\n",
        "nlp.remove_pipe('parser')\n",
        "nltk.download('stopwords')\n",
        "\n",
        "def text_pipeline_spacy(text):\n",
        "    tokens = []\n",
        "    doc = nlp(text)\n",
        "    for t in doc:\n",
        "        if not t.is_stop and not t.is_punct and not t.is_space:\n",
        "            tokens.append(t.lemma_.lower())\n",
        "    return tokens\n"
      ],
      "metadata": {
        "colab": {
          "base_uri": "https://localhost:8080/"
        },
        "id": "vSURI6HlBlQw",
        "outputId": "c2ee1da1-510c-498d-c368-8f2ea3c81e51"
      },
      "execution_count": null,
      "outputs": [
        {
          "output_type": "stream",
          "name": "stdout",
          "text": [
            "[nltk_data] Downloading package stopwords to /root/nltk_data...\n",
            "[nltk_data]   Package stopwords is already up-to-date!\n"
          ]
        }
      ]
    },
    {
      "cell_type": "code",
      "source": [
        "TF_IDF_transformer_new = TfidfVectorizer(tokenizer=text_pipeline_spacy, sublinear_tf=True, max_features = 2100)\n",
        "validation_tfidf_new = TF_IDF_transformer_new.fit_transform((validation_data_df['body'] + ' ' + validation_data_df['author'] + ' ' + validation_data_df['title']).tolist())\n",
        "train_tfidf_new = TF_IDF_transformer_new.transform((train_data_df['body'] + ' ' + train_data_df['author'] + ' ' + train_data_df['title']).tolist())\n",
        "test_tfidf_new = TF_IDF_transformer_new.transform((test_data_df['body'] + ' ' + test_data_df['author'] + ' ' + test_data_df['title']).tolist())\n",
        "\n",
        "lr_TF_IDF = LogisticRegression(solver ='saga', C = 0.6)\n",
        "\n",
        "lr_TF_IDF_model = lr_TF_IDF.fit(train_tfidf_new, train_labels)\n",
        "\n",
        "lr_TF_IDF_predicted_labels_f2 = lr_TF_IDF_model.predict(test_tfidf_new)\n",
        "\n",
        "evaluation_summary(\"LR TDIDF with tuning\", test_labels, lr_TF_IDF_predicted_labels_f2)"
      ],
      "metadata": {
        "colab": {
          "base_uri": "https://localhost:8080/"
        },
        "id": "3D0JXYn3KTYR",
        "outputId": "b268f867-6073-43ea-aab7-a51af9c1c807"
      },
      "execution_count": null,
      "outputs": [
        {
          "output_type": "stream",
          "name": "stdout",
          "text": [
            "Evaluation for: LR TDIDF with tuning\n",
            "                precision    recall  f1-score   support\n",
            "\n",
            "        Coffee      1.000     0.929     0.963        56\n",
            "   HydroHomies      0.919     0.895     0.907        38\n",
            "NintendoSwitch      0.830     0.846     0.838        52\n",
            "           PS4      0.691     0.792     0.738        48\n",
            "          Soda      0.875     0.966     0.918        29\n",
            "       antiMLM      0.816     0.909     0.860        44\n",
            "      pcgaming      0.698     0.638     0.667        47\n",
            "           tea      0.976     0.952     0.964        42\n",
            "          xbox      0.921     0.795     0.854        44\n",
            "\n",
            "      accuracy                          0.853       400\n",
            "     macro avg      0.858     0.858     0.856       400\n",
            "  weighted avg      0.857     0.853     0.853       400\n",
            "\n",
            "\n",
            "Confusion matrix:\n",
            " [[52  1  0  0  2  0  1  0  0]\n",
            " [ 0 34  0  1  1  2  0  0  0]\n",
            " [ 0  0 44  5  0  0  2  0  1]\n",
            " [ 0  0  1 38  0  1  7  0  1]\n",
            " [ 0  0  0  0 28  0  1  0  0]\n",
            " [ 0  2  0  1  0 40  0  1  0]\n",
            " [ 0  0  7  5  0  4 30  0  1]\n",
            " [ 0  0  0  1  1  0  0 40  0]\n",
            " [ 0  0  1  4  0  2  2  0 35]]\n"
          ]
        }
      ]
    },
    {
      "cell_type": "markdown",
      "source": [
        "### Q3b:"
      ],
      "metadata": {
        "id": "ymz5BE7NAgZM"
      }
    },
    {
      "cell_type": "code",
      "source": [
        "! pip install seaborn"
      ],
      "metadata": {
        "colab": {
          "base_uri": "https://localhost:8080/"
        },
        "id": "_t7BtF8IFIKD",
        "outputId": "6f3dc2d4-74cc-455a-955b-c3299798da7a"
      },
      "execution_count": null,
      "outputs": [
        {
          "output_type": "stream",
          "name": "stdout",
          "text": [
            "Requirement already satisfied: seaborn in /usr/local/lib/python3.7/dist-packages (0.11.2)\n",
            "Requirement already satisfied: scipy>=1.0 in /usr/local/lib/python3.7/dist-packages (from seaborn) (1.4.1)\n",
            "Requirement already satisfied: numpy>=1.15 in /usr/local/lib/python3.7/dist-packages (from seaborn) (1.21.5)\n",
            "Requirement already satisfied: pandas>=0.23 in /usr/local/lib/python3.7/dist-packages (from seaborn) (1.3.5)\n",
            "Requirement already satisfied: matplotlib>=2.2 in /usr/local/lib/python3.7/dist-packages (from seaborn) (3.2.2)\n",
            "Requirement already satisfied: cycler>=0.10 in /usr/local/lib/python3.7/dist-packages (from matplotlib>=2.2->seaborn) (0.11.0)\n",
            "Requirement already satisfied: python-dateutil>=2.1 in /usr/local/lib/python3.7/dist-packages (from matplotlib>=2.2->seaborn) (2.8.2)\n",
            "Requirement already satisfied: kiwisolver>=1.0.1 in /usr/local/lib/python3.7/dist-packages (from matplotlib>=2.2->seaborn) (1.3.2)\n",
            "Requirement already satisfied: pyparsing!=2.0.4,!=2.1.2,!=2.1.6,>=2.0.1 in /usr/local/lib/python3.7/dist-packages (from matplotlib>=2.2->seaborn) (3.0.7)\n",
            "Requirement already satisfied: pytz>=2017.3 in /usr/local/lib/python3.7/dist-packages (from pandas>=0.23->seaborn) (2018.9)\n",
            "Requirement already satisfied: six>=1.5 in /usr/local/lib/python3.7/dist-packages (from python-dateutil>=2.1->matplotlib>=2.2->seaborn) (1.15.0)\n"
          ]
        }
      ]
    },
    {
      "cell_type": "code",
      "source": [
        "# With tuning\n",
        "TF_IDF_transformer_new = TfidfVectorizer(sublinear_tf=True, max_features = 2100)\n",
        "validation_tfidf_new = TF_IDF_transformer_new.fit_transform(validation_data_df['body'].tolist())\n",
        "train_tfidf_new = TF_IDF_transformer_new.transform(train_data_df['body'].tolist())\n",
        "test_tfidf_new = TF_IDF_transformer_new.transform(test_data_df['body'].tolist())\n",
        "\n",
        "lr_TF_IDF = LogisticRegression(solver ='saga', C = 0.6)\n",
        "\n",
        "lr_TF_IDF_model = lr_TF_IDF.fit(train_tfidf_new, train_labels)\n",
        "\n",
        "lr_TF_IDF_predicted_labels_tuning = lr_TF_IDF_model.predict(test_tfidf_new)"
      ],
      "metadata": {
        "id": "qH8uJQ4_zaLU"
      },
      "execution_count": 29,
      "outputs": []
    },
    {
      "cell_type": "code",
      "source": [
        "import seaborn as sns\n",
        "\n",
        "tuning = confusion_matrix(test_labels, lr_TF_IDF_predicted_labels_tuning)\n",
        "F1 = confusion_matrix(test_labels, lr_TF_IDF_predicted_labels_f1)\n",
        "F2 = confusion_matrix(test_labels, lr_TF_IDF_predicted_labels_f2)\n",
        "label = list(test_valuecount.index)\n",
        "\n",
        "f, ax = plt.subplots(figsize=(10, 7))\n",
        "plt.xticks(rotation='90')\n",
        "plt.title(\"Only with tuning\")\n",
        "sns.heatmap(tuning, square=True, linewidths=.5, annot=True, yticklabels = label, xticklabels = label)\n",
        "plt.show()\n",
        "\n",
        "f, ax = plt.subplots(figsize=(10, 7))\n",
        "plt.xticks(rotation='90')\n",
        "plt.title(\"Add the title and author\")\n",
        "sns.heatmap(F1, square=True, linewidths=.5, annot=True, yticklabels = label, xticklabels = label)\n",
        "plt.show()\n",
        "\n",
        "f, ax = plt.subplots(figsize=(10, 7))\n",
        "plt.xticks(rotation='90')\n",
        "plt.title(\"Add stopwords reduce\")\n",
        "sns.heatmap(F2, square=True, linewidths=.5, annot=True, yticklabels = label, xticklabels = label)\n",
        "plt.show()"
      ],
      "metadata": {
        "colab": {
          "base_uri": "https://localhost:8080/",
          "height": 1000
        },
        "id": "uV8r5JCcDjsO",
        "outputId": "7359a424-f238-480b-d11d-e2cb12c56a2a"
      },
      "execution_count": 30,
      "outputs": [
        {
          "output_type": "display_data",
          "data": {
            "image/png": "[encoded data removed]",
            "text/plain": [
              "<Figure size 720x504 with 2 Axes>"
            ]
          },
          "metadata": {
            "needs_background": "light"
          }
        },
        {
          "output_type": "display_data",
          "data": {
            "image/png": "[encoded data removed]",
            "text/plain": [
              "<Figure size 720x504 with 2 Axes>"
            ]
          },
          "metadata": {
            "needs_background": "light"
          }
        },
        {
          "output_type": "display_data",
          "data": {
            "image/png": "[encoded data removed]",
            "text/plain": [
              "<Figure size 720x504 with 2 Axes>"
            ]
          },
          "metadata": {
            "needs_background": "light"
          }
        }
      ]
    },
    {
      "cell_type": "markdown",
      "source": [
        "### Q3c:"
      ],
      "metadata": {
        "id": "NSw1OczAAgb3"
      }
    }
  ]
}